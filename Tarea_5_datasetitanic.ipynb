{
 "cells": [
  {
   "cell_type": "markdown",
   "id": "25464220-61ac-4c4d-af20-b21fb19316db",
   "metadata": {},
   "source": [
    "# Tarea5_Titanic_Robert_campo_G_43"
   ]
  },
  {
   "cell_type": "markdown",
   "id": "009a74b1-3add-45ae-a682-e48faafadec2",
   "metadata": {},
   "source": [
    "## Importar librerias"
   ]
  },
  {
   "cell_type": "code",
   "execution_count": 10,
   "id": "62045090-092c-412a-bf03-6f266d8eb9aa",
   "metadata": {},
   "outputs": [],
   "source": [
    "import pandas as pd \n",
    "import numpy as np\n",
    "import seaborn as sns \n",
    "import matplotlib.pyplot as plt\n",
    "from sklearn import metrics\n",
    "from sklearn.model_selection import train_test_split\n",
    "from sklearn.linear_model import LogisticRegression\n",
    "from sklearn.metrics import classification_report, confusion_matrix"
   ]
  },
  {
   "cell_type": "markdown",
   "id": "f846be9a-9d15-4a45-a99f-1f15c034c684",
   "metadata": {},
   "source": [
    "### cargar dataset titanic"
   ]
  },
  {
   "cell_type": "code",
   "execution_count": 2,
   "id": "29a9212f-1e89-4f2f-9524-bc2d8bb1599e",
   "metadata": {},
   "outputs": [],
   "source": [
    "datostitanic= pd.read_csv('./Titanic-Dataset.csv')"
   ]
  },
  {
   "cell_type": "markdown",
   "id": "868879c9-41f8-4f7c-b2b4-4d8c990887e8",
   "metadata": {},
   "source": [
    "### lectura de los datos"
   ]
  },
  {
   "cell_type": "code",
   "execution_count": 3,
   "id": "a118c357-c159-4278-bd6f-453f0b200205",
   "metadata": {},
   "outputs": [
    {
     "data": {
      "text/html": [
       "<div>\n",
       "<style scoped>\n",
       "    .dataframe tbody tr th:only-of-type {\n",
       "        vertical-align: middle;\n",
       "    }\n",
       "\n",
       "    .dataframe tbody tr th {\n",
       "        vertical-align: top;\n",
       "    }\n",
       "\n",
       "    .dataframe thead th {\n",
       "        text-align: right;\n",
       "    }\n",
       "</style>\n",
       "<table border=\"1\" class=\"dataframe\">\n",
       "  <thead>\n",
       "    <tr style=\"text-align: right;\">\n",
       "      <th></th>\n",
       "      <th>PassengerId</th>\n",
       "      <th>Survived</th>\n",
       "      <th>Pclass</th>\n",
       "      <th>Name</th>\n",
       "      <th>Sex</th>\n",
       "      <th>Age</th>\n",
       "      <th>SibSp</th>\n",
       "      <th>Parch</th>\n",
       "      <th>Ticket</th>\n",
       "      <th>Fare</th>\n",
       "      <th>Cabin</th>\n",
       "      <th>Embarked</th>\n",
       "    </tr>\n",
       "  </thead>\n",
       "  <tbody>\n",
       "    <tr>\n",
       "      <th>0</th>\n",
       "      <td>1</td>\n",
       "      <td>0</td>\n",
       "      <td>3</td>\n",
       "      <td>Braund, Mr. Owen Harris</td>\n",
       "      <td>male</td>\n",
       "      <td>22.0</td>\n",
       "      <td>1</td>\n",
       "      <td>0</td>\n",
       "      <td>A/5 21171</td>\n",
       "      <td>7.2500</td>\n",
       "      <td>NaN</td>\n",
       "      <td>S</td>\n",
       "    </tr>\n",
       "    <tr>\n",
       "      <th>1</th>\n",
       "      <td>2</td>\n",
       "      <td>1</td>\n",
       "      <td>1</td>\n",
       "      <td>Cumings, Mrs. John Bradley (Florence Briggs Th...</td>\n",
       "      <td>female</td>\n",
       "      <td>38.0</td>\n",
       "      <td>1</td>\n",
       "      <td>0</td>\n",
       "      <td>PC 17599</td>\n",
       "      <td>71.2833</td>\n",
       "      <td>C85</td>\n",
       "      <td>C</td>\n",
       "    </tr>\n",
       "    <tr>\n",
       "      <th>2</th>\n",
       "      <td>3</td>\n",
       "      <td>1</td>\n",
       "      <td>3</td>\n",
       "      <td>Heikkinen, Miss. Laina</td>\n",
       "      <td>female</td>\n",
       "      <td>26.0</td>\n",
       "      <td>0</td>\n",
       "      <td>0</td>\n",
       "      <td>STON/O2. 3101282</td>\n",
       "      <td>7.9250</td>\n",
       "      <td>NaN</td>\n",
       "      <td>S</td>\n",
       "    </tr>\n",
       "    <tr>\n",
       "      <th>3</th>\n",
       "      <td>4</td>\n",
       "      <td>1</td>\n",
       "      <td>1</td>\n",
       "      <td>Futrelle, Mrs. Jacques Heath (Lily May Peel)</td>\n",
       "      <td>female</td>\n",
       "      <td>35.0</td>\n",
       "      <td>1</td>\n",
       "      <td>0</td>\n",
       "      <td>113803</td>\n",
       "      <td>53.1000</td>\n",
       "      <td>C123</td>\n",
       "      <td>S</td>\n",
       "    </tr>\n",
       "    <tr>\n",
       "      <th>4</th>\n",
       "      <td>5</td>\n",
       "      <td>0</td>\n",
       "      <td>3</td>\n",
       "      <td>Allen, Mr. William Henry</td>\n",
       "      <td>male</td>\n",
       "      <td>35.0</td>\n",
       "      <td>0</td>\n",
       "      <td>0</td>\n",
       "      <td>373450</td>\n",
       "      <td>8.0500</td>\n",
       "      <td>NaN</td>\n",
       "      <td>S</td>\n",
       "    </tr>\n",
       "    <tr>\n",
       "      <th>...</th>\n",
       "      <td>...</td>\n",
       "      <td>...</td>\n",
       "      <td>...</td>\n",
       "      <td>...</td>\n",
       "      <td>...</td>\n",
       "      <td>...</td>\n",
       "      <td>...</td>\n",
       "      <td>...</td>\n",
       "      <td>...</td>\n",
       "      <td>...</td>\n",
       "      <td>...</td>\n",
       "      <td>...</td>\n",
       "    </tr>\n",
       "    <tr>\n",
       "      <th>886</th>\n",
       "      <td>887</td>\n",
       "      <td>0</td>\n",
       "      <td>2</td>\n",
       "      <td>Montvila, Rev. Juozas</td>\n",
       "      <td>male</td>\n",
       "      <td>27.0</td>\n",
       "      <td>0</td>\n",
       "      <td>0</td>\n",
       "      <td>211536</td>\n",
       "      <td>13.0000</td>\n",
       "      <td>NaN</td>\n",
       "      <td>S</td>\n",
       "    </tr>\n",
       "    <tr>\n",
       "      <th>887</th>\n",
       "      <td>888</td>\n",
       "      <td>1</td>\n",
       "      <td>1</td>\n",
       "      <td>Graham, Miss. Margaret Edith</td>\n",
       "      <td>female</td>\n",
       "      <td>19.0</td>\n",
       "      <td>0</td>\n",
       "      <td>0</td>\n",
       "      <td>112053</td>\n",
       "      <td>30.0000</td>\n",
       "      <td>B42</td>\n",
       "      <td>S</td>\n",
       "    </tr>\n",
       "    <tr>\n",
       "      <th>888</th>\n",
       "      <td>889</td>\n",
       "      <td>0</td>\n",
       "      <td>3</td>\n",
       "      <td>Johnston, Miss. Catherine Helen \"Carrie\"</td>\n",
       "      <td>female</td>\n",
       "      <td>NaN</td>\n",
       "      <td>1</td>\n",
       "      <td>2</td>\n",
       "      <td>W./C. 6607</td>\n",
       "      <td>23.4500</td>\n",
       "      <td>NaN</td>\n",
       "      <td>S</td>\n",
       "    </tr>\n",
       "    <tr>\n",
       "      <th>889</th>\n",
       "      <td>890</td>\n",
       "      <td>1</td>\n",
       "      <td>1</td>\n",
       "      <td>Behr, Mr. Karl Howell</td>\n",
       "      <td>male</td>\n",
       "      <td>26.0</td>\n",
       "      <td>0</td>\n",
       "      <td>0</td>\n",
       "      <td>111369</td>\n",
       "      <td>30.0000</td>\n",
       "      <td>C148</td>\n",
       "      <td>C</td>\n",
       "    </tr>\n",
       "    <tr>\n",
       "      <th>890</th>\n",
       "      <td>891</td>\n",
       "      <td>0</td>\n",
       "      <td>3</td>\n",
       "      <td>Dooley, Mr. Patrick</td>\n",
       "      <td>male</td>\n",
       "      <td>32.0</td>\n",
       "      <td>0</td>\n",
       "      <td>0</td>\n",
       "      <td>370376</td>\n",
       "      <td>7.7500</td>\n",
       "      <td>NaN</td>\n",
       "      <td>Q</td>\n",
       "    </tr>\n",
       "  </tbody>\n",
       "</table>\n",
       "<p>891 rows × 12 columns</p>\n",
       "</div>"
      ],
      "text/plain": [
       "     PassengerId  Survived  Pclass  \\\n",
       "0              1         0       3   \n",
       "1              2         1       1   \n",
       "2              3         1       3   \n",
       "3              4         1       1   \n",
       "4              5         0       3   \n",
       "..           ...       ...     ...   \n",
       "886          887         0       2   \n",
       "887          888         1       1   \n",
       "888          889         0       3   \n",
       "889          890         1       1   \n",
       "890          891         0       3   \n",
       "\n",
       "                                                  Name     Sex   Age  SibSp  \\\n",
       "0                              Braund, Mr. Owen Harris    male  22.0      1   \n",
       "1    Cumings, Mrs. John Bradley (Florence Briggs Th...  female  38.0      1   \n",
       "2                               Heikkinen, Miss. Laina  female  26.0      0   \n",
       "3         Futrelle, Mrs. Jacques Heath (Lily May Peel)  female  35.0      1   \n",
       "4                             Allen, Mr. William Henry    male  35.0      0   \n",
       "..                                                 ...     ...   ...    ...   \n",
       "886                              Montvila, Rev. Juozas    male  27.0      0   \n",
       "887                       Graham, Miss. Margaret Edith  female  19.0      0   \n",
       "888           Johnston, Miss. Catherine Helen \"Carrie\"  female   NaN      1   \n",
       "889                              Behr, Mr. Karl Howell    male  26.0      0   \n",
       "890                                Dooley, Mr. Patrick    male  32.0      0   \n",
       "\n",
       "     Parch            Ticket     Fare Cabin Embarked  \n",
       "0        0         A/5 21171   7.2500   NaN        S  \n",
       "1        0          PC 17599  71.2833   C85        C  \n",
       "2        0  STON/O2. 3101282   7.9250   NaN        S  \n",
       "3        0            113803  53.1000  C123        S  \n",
       "4        0            373450   8.0500   NaN        S  \n",
       "..     ...               ...      ...   ...      ...  \n",
       "886      0            211536  13.0000   NaN        S  \n",
       "887      0            112053  30.0000   B42        S  \n",
       "888      2        W./C. 6607  23.4500   NaN        S  \n",
       "889      0            111369  30.0000  C148        C  \n",
       "890      0            370376   7.7500   NaN        Q  \n",
       "\n",
       "[891 rows x 12 columns]"
      ]
     },
     "execution_count": 3,
     "metadata": {},
     "output_type": "execute_result"
    }
   ],
   "source": [
    "datostitanic.head(893)"
   ]
  },
  {
   "cell_type": "markdown",
   "id": "e225b6f5-5f69-40a6-a79e-417f74f36f78",
   "metadata": {},
   "source": [
    "### informacion general del dataset"
   ]
  },
  {
   "cell_type": "code",
   "execution_count": 11,
   "id": "8fbf0e64-cdda-4d50-9b49-5ef2b461d47b",
   "metadata": {},
   "outputs": [
    {
     "name": "stdout",
     "output_type": "stream",
     "text": [
      "<class 'pandas.core.frame.DataFrame'>\n",
      "RangeIndex: 891 entries, 0 to 890\n",
      "Data columns (total 12 columns):\n",
      " #   Column       Non-Null Count  Dtype  \n",
      "---  ------       --------------  -----  \n",
      " 0   PassengerId  891 non-null    int64  \n",
      " 1   Survived     891 non-null    int64  \n",
      " 2   Pclass       891 non-null    int64  \n",
      " 3   Name         891 non-null    object \n",
      " 4   Sex          891 non-null    object \n",
      " 5   Age          714 non-null    float64\n",
      " 6   SibSp        891 non-null    int64  \n",
      " 7   Parch        891 non-null    int64  \n",
      " 8   Ticket       891 non-null    object \n",
      " 9   Fare         891 non-null    float64\n",
      " 10  Cabin        204 non-null    object \n",
      " 11  Embarked     889 non-null    object \n",
      "dtypes: float64(2), int64(5), object(5)\n",
      "memory usage: 83.7+ KB\n",
      "None\n"
     ]
    }
   ],
   "source": [
    "print(datostitanic.info())"
   ]
  },
  {
   "cell_type": "markdown",
   "id": "350c2ab0-86cd-4d3e-9b54-8e264ef15f61",
   "metadata": {},
   "source": [
    "### datos faltantes o atipicos"
   ]
  },
  {
   "cell_type": "code",
   "execution_count": 4,
   "id": "493c4e0f-b6c2-4377-839a-8e4341edf75c",
   "metadata": {},
   "outputs": [
    {
     "data": {
      "text/plain": [
       "Text(0.5, 1.0, 'identificacion de datos faltantes y atipicos')"
      ]
     },
     "execution_count": 4,
     "metadata": {},
     "output_type": "execute_result"
    },
    {
     "data": {
      "image/png": "[encoded data removed]",
      "text/plain": [
       "<Figure size 700x400 with 1 Axes>"
      ]
     },
     "metadata": {},
     "output_type": "display_data"
    }
   ],
   "source": [
    "plt.figure(figsize=(7, 4))\n",
    "sns.boxplot(x=datostitanic['Age'])\n",
    "plt.title('identificacion de datos faltantes y atipicos',fontsize=10)           \n",
    "           "
   ]
  },
  {
   "cell_type": "code",
   "execution_count": 16,
   "id": "27451a70-0631-41c6-b624-76f005a833d5",
   "metadata": {},
   "outputs": [
    {
     "data": {
      "image/png": "[encoded data removed]",
      "text/plain": [
       "<Figure size 640x480 with 1 Axes>"
      ]
     },
     "metadata": {},
     "output_type": "display_data"
    }
   ],
   "source": [
    "sns.boxplot(x='Age', data=datostitanic)\n",
    "plt.title('Diagrama de caja de la edad')\n",
    "plt.show()"
   ]
  },
  {
   "cell_type": "markdown",
   "id": "629fff53-c558-4a64-ae9e-4961df8f89bd",
   "metadata": {},
   "source": [
    "### tendencias"
   ]
  },
  {
   "cell_type": "code",
   "execution_count": 13,
   "id": "30fcc00f-af18-4e17-8073-7345e7e0aa91",
   "metadata": {},
   "outputs": [
    {
     "data": {
      "image/png": "[encoded data removed]",
      "text/plain": [
       "<Figure size 640x480 with 1 Axes>"
      ]
     },
     "metadata": {},
     "output_type": "display_data"
    }
   ],
   "source": [
    "# Visualizar la distribución de la variable objetivo (Supervivencia)\n",
    "sns.countplot(data=datostitanic, x='Survived')\n",
    "plt.title('Distribución de Supervivencia')\n",
    "plt.show()"
   ]
  },
  {
   "cell_type": "markdown",
   "id": "9de6fbd4-ea6f-4cb2-8766-601096a73186",
   "metadata": {},
   "source": [
    "### Visualizar la relación entre supervivencia y otras variables"
   ]
  },
  {
   "cell_type": "code",
   "execution_count": 14,
   "id": "e0480d60-e8f8-426e-bedb-bc973f278193",
   "metadata": {},
   "outputs": [
    {
     "data": {
      "image/png": "[encoded data removed]",
      "text/plain": [
       "<Figure size 640x480 with 1 Axes>"
      ]
     },
     "metadata": {},
     "output_type": "display_data"
    }
   ],
   "source": [
    "\n",
    "sns.barplot(data=datostitanic, x='Pclass', y='Survived')\n",
    "plt.title('Supervivencia por Clase')\n",
    "plt.show()"
   ]
  },
  {
   "cell_type": "code",
   "execution_count": 15,
   "id": "f6de737a-2565-4794-acdd-db142b697302",
   "metadata": {},
   "outputs": [
    {
     "data": {
      "image/png": "[encoded data removed]",
      "text/plain": [
       "<Figure size 640x480 with 1 Axes>"
      ]
     },
     "metadata": {},
     "output_type": "display_data"
    }
   ],
   "source": [
    "sns.barplot(data=datostitanic, x='Sex', y='Survived')\n",
    "plt.title('Supervivencia por Sexo')\n",
    "plt.show()"
   ]
  },
  {
   "cell_type": "code",
   "execution_count": 16,
   "id": "355254a4-d5c6-45b7-a857-e45a089ab461",
   "metadata": {},
   "outputs": [
    {
     "name": "stderr",
     "output_type": "stream",
     "text": [
      "C:\\ProgramData\\anaconda3\\Lib\\site-packages\\seaborn\\_oldcore.py:1119: FutureWarning: use_inf_as_na option is deprecated and will be removed in a future version. Convert inf values to NaN before operating instead.\n",
      "  with pd.option_context('mode.use_inf_as_na', True):\n"
     ]
    },
    {
     "data": {
      "image/png": "[encoded data removed]",
      "text/plain": [
       "<Figure size 640x480 with 1 Axes>"
      ]
     },
     "metadata": {},
     "output_type": "display_data"
    }
   ],
   "source": [
    "sns.histplot(data=datostitanic, x='Age', hue='Survived', multiple='stack')\n",
    "plt.title('Distribución de Edad por Supervivencia')\n",
    "plt.show()"
   ]
  },
  {
   "cell_type": "markdown",
   "id": "ac6e2eef-aaf9-4777-82ff-61487031e7c8",
   "metadata": {},
   "source": [
    "## 2.Preprocesar los datos"
   ]
  },
  {
   "cell_type": "code",
   "execution_count": 29,
   "id": "ea39b3b2-5c9e-4b5e-a416-658288ba5173",
   "metadata": {},
   "outputs": [
    {
     "name": "stdout",
     "output_type": "stream",
     "text": [
      "PassengerId    0\n",
      "Survived       0\n",
      "Pclass         0\n",
      "Name           0\n",
      "Age            0\n",
      "SibSp          0\n",
      "Parch          0\n",
      "Ticket         0\n",
      "Fare           0\n",
      "Sex_male       0\n",
      "Embarked_Q     0\n",
      "Embarked_S     0\n",
      "dtype: int64\n"
     ]
    }
   ],
   "source": [
    "# Verificar valores faltantes\n",
    "print(datostitanic.isnull().sum())"
   ]
  },
  {
   "cell_type": "code",
   "execution_count": 41,
   "id": "bdb6adfc-f17f-40c1-9db1-7ea759e5f283",
   "metadata": {},
   "outputs": [],
   "source": [
    "# Imputar valores faltantes en la columna 'Age' con la media\n",
    "datostitanic['Age'].fillna(datostitanic['Age'].mean(), inplace=True)\n"
   ]
  },
  {
   "cell_type": "code",
   "execution_count": 35,
   "id": "7db02efa-c64a-4762-9077-e6f02ab8e539",
   "metadata": {},
   "outputs": [],
   "source": [
    "# Imputar valores faltantes en la columna 'Embarked' con la moda\n",
    "datostitanic['Embarked_Q'].fillna(datostitanic['Embarked_Q'].mode()[0], inplace=True)"
   ]
  },
  {
   "cell_type": "code",
   "execution_count": 40,
   "id": "4711d336-5abe-43d1-bb3f-231d022fedec",
   "metadata": {},
   "outputs": [
    {
     "name": "stdout",
     "output_type": "stream",
     "text": [
      "PassengerId    0\n",
      "Survived       0\n",
      "Pclass         0\n",
      "Name           0\n",
      "Age            0\n",
      "SibSp          0\n",
      "Parch          0\n",
      "Ticket         0\n",
      "Fare           0\n",
      "Sex_male       0\n",
      "Embarked_Q     0\n",
      "Embarked_S     0\n",
      "dtype: int64\n"
     ]
    }
   ],
   "source": [
    "# Verificar nuevamente valores faltantes\n",
    "print(datostitanic.isnull().sum())"
   ]
  },
  {
   "cell_type": "code",
   "execution_count": 42,
   "id": "3fb80ec0-7b1d-4ac0-8175-bcae075e21b2",
   "metadata": {},
   "outputs": [
    {
     "name": "stdout",
     "output_type": "stream",
     "text": [
      "<class 'pandas.core.frame.DataFrame'>\n",
      "RangeIndex: 891 entries, 0 to 890\n",
      "Data columns (total 12 columns):\n",
      " #   Column       Non-Null Count  Dtype  \n",
      "---  ------       --------------  -----  \n",
      " 0   PassengerId  891 non-null    int64  \n",
      " 1   Survived     891 non-null    int64  \n",
      " 2   Pclass       891 non-null    int64  \n",
      " 3   Name         891 non-null    object \n",
      " 4   Age          891 non-null    float64\n",
      " 5   SibSp        891 non-null    int64  \n",
      " 6   Parch        891 non-null    int64  \n",
      " 7   Ticket       891 non-null    object \n",
      " 8   Fare         891 non-null    float64\n",
      " 9   Sex_male     891 non-null    bool   \n",
      " 10  Embarked_Q   891 non-null    bool   \n",
      " 11  Embarked_S   891 non-null    bool   \n",
      "dtypes: bool(3), float64(2), int64(5), object(2)\n",
      "memory usage: 65.4+ KB\n",
      "None\n"
     ]
    }
   ],
   "source": [
    "print(datostitanic.info())"
   ]
  },
  {
   "cell_type": "markdown",
   "id": "c824951d-c9cc-49be-8a70-d446cfdde399",
   "metadata": {},
   "source": [
    "### 3. Seleccion de caracteristicas"
   ]
  },
  {
   "cell_type": "code",
   "execution_count": 43,
   "id": "9de63665-8882-4589-85b4-e53b5e86dd7d",
   "metadata": {},
   "outputs": [],
   "source": [
    "# Selección de características basadas en conocimiento previo\n",
    "features = ['Pclass', 'Age', 'SibSp', 'Parch', 'Fare', 'Sex_male', 'Embarked_Q', 'Embarked_S']\n",
    "X = datostitanic[features]\n",
    "y = datostitanic['Survived']"
   ]
  },
  {
   "cell_type": "code",
   "execution_count": 44,
   "id": "0f0db041-e1dd-40cc-a059-db041b7f190f",
   "metadata": {},
   "outputs": [
    {
     "data": {
      "text/plain": [
       "Age\n",
       "29.699118    177\n",
       "24.000000     30\n",
       "22.000000     27\n",
       "18.000000     26\n",
       "28.000000     25\n",
       "            ... \n",
       "36.500000      1\n",
       "55.500000      1\n",
       "0.920000       1\n",
       "23.500000      1\n",
       "74.000000      1\n",
       "Name: count, Length: 89, dtype: int64"
      ]
     },
     "execution_count": 44,
     "metadata": {},
     "output_type": "execute_result"
    }
   ],
   "source": [
    "datostitanic['Age'].value_counts()"
   ]
  },
  {
   "cell_type": "markdown",
   "id": "16b7148d-04f9-4d37-a693-9d01ca3d109a",
   "metadata": {},
   "source": [
    "### 4.Dividir el Dataset en Train y Test"
   ]
  },
  {
   "cell_type": "code",
   "execution_count": 45,
   "id": "de24447d-7c68-46a1-adaa-46aa9c46ebce",
   "metadata": {},
   "outputs": [],
   "source": [
    "from sklearn.model_selection import train_test_split\n",
    "\n",
    "# Dividir el dataset en train y test\n",
    "X_train, X_test, y_train, y_test = train_test_split(X, y, test_size=0.2, random_state=42)"
   ]
  },
  {
   "cell_type": "code",
   "execution_count": 47,
   "id": "db85648c-98ff-4561-af7a-22fb8bc8b918",
   "metadata": {},
   "outputs": [
    {
     "name": "stdout",
     "output_type": "stream",
     "text": [
      "     Pclass        Age  SibSp  Parch      Fare  Sex_male  Embarked_Q  \\\n",
      "331       1  45.500000      0      0   28.5000      True       False   \n",
      "733       2  23.000000      0      0   13.0000      True       False   \n",
      "382       3  32.000000      0      0    7.9250      True       False   \n",
      "704       3  26.000000      1      0    7.8542      True       False   \n",
      "813       3   6.000000      4      2   31.2750     False       False   \n",
      "..      ...        ...    ...    ...       ...       ...         ...   \n",
      "106       3  21.000000      0      0    7.6500     False       False   \n",
      "270       1  29.699118      0      0   31.0000      True       False   \n",
      "860       3  41.000000      2      0   14.1083      True       False   \n",
      "435       1  14.000000      1      2  120.0000     False       False   \n",
      "102       1  21.000000      0      1   77.2875      True       False   \n",
      "\n",
      "     Embarked_S  \n",
      "331        True  \n",
      "733        True  \n",
      "382        True  \n",
      "704        True  \n",
      "813        True  \n",
      "..          ...  \n",
      "106        True  \n",
      "270        True  \n",
      "860        True  \n",
      "435        True  \n",
      "102        True  \n",
      "\n",
      "[712 rows x 8 columns]\n"
     ]
    }
   ],
   "source": [
    "print (X_train)"
   ]
  },
  {
   "cell_type": "code",
   "execution_count": 50,
   "id": "ed50cd38-316d-4bf7-88bc-b17c5eadae83",
   "metadata": {},
   "outputs": [
    {
     "name": "stdout",
     "output_type": "stream",
     "text": [
      "709    1\n",
      "439    0\n",
      "840    0\n",
      "720    1\n",
      "39     1\n",
      "      ..\n",
      "433    0\n",
      "773    0\n",
      "25     1\n",
      "84     1\n",
      "10     1\n",
      "Name: Survived, Length: 179, dtype: int64\n"
     ]
    }
   ],
   "source": [
    "print (y_test)"
   ]
  },
  {
   "cell_type": "markdown",
   "id": "a05e3ed3-3e41-4119-9d39-d695309733c1",
   "metadata": {},
   "source": [
    "###  5.Entrenar el Modelo"
   ]
  },
  {
   "cell_type": "code",
   "execution_count": 51,
   "id": "8e36c184-a247-4724-b4b7-4e8cb97cc459",
   "metadata": {},
   "outputs": [],
   "source": [
    "from sklearn.linear_model import LogisticRegression"
   ]
  },
  {
   "cell_type": "code",
   "execution_count": 52,
   "id": "808334ca-564c-4ed4-b238-514e2791f4d1",
   "metadata": {},
   "outputs": [],
   "source": [
    "# Inicializar el modelo de Regresión Logística\n",
    "model = LogisticRegression(max_iter=1000)"
   ]
  },
  {
   "cell_type": "code",
   "execution_count": 53,
   "id": "87852253-da48-478c-81ca-12f6ed0cbafe",
   "metadata": {},
   "outputs": [
    {
     "data": {
      "text/html": [
       "<style>#sk-container-id-1 {color: black;background-color: white;}#sk-container-id-1 pre{padding: 0;}#sk-container-id-1 div.sk-toggleable {background-color: white;}#sk-container-id-1 label.sk-toggleable__label {cursor: pointer;display: block;width: 100%;margin-bottom: 0;padding: 0.3em;box-sizing: border-box;text-align: center;}#sk-container-id-1 label.sk-toggleable__label-arrow:before {content: \"▸\";float: left;margin-right: 0.25em;color: #696969;}#sk-container-id-1 label.sk-toggleable__label-arrow:hover:before {color: black;}#sk-container-id-1 div.sk-estimator:hover label.sk-toggleable__label-arrow:before {color: black;}#sk-container-id-1 div.sk-toggleable__content {max-height: 0;max-width: 0;overflow: hidden;text-align: left;background-color: #f0f8ff;}#sk-container-id-1 div.sk-toggleable__content pre {margin: 0.2em;color: black;border-radius: 0.25em;background-color: #f0f8ff;}#sk-container-id-1 input.sk-toggleable__control:checked~div.sk-toggleable__content {max-height: 200px;max-width: 100%;overflow: auto;}#sk-container-id-1 input.sk-toggleable__control:checked~label.sk-toggleable__label-arrow:before {content: \"▾\";}#sk-container-id-1 div.sk-estimator input.sk-toggleable__control:checked~label.sk-toggleable__label {background-color: #d4ebff;}#sk-container-id-1 div.sk-label input.sk-toggleable__control:checked~label.sk-toggleable__label {background-color: #d4ebff;}#sk-container-id-1 input.sk-hidden--visually {border: 0;clip: rect(1px 1px 1px 1px);clip: rect(1px, 1px, 1px, 1px);height: 1px;margin: -1px;overflow: hidden;padding: 0;position: absolute;width: 1px;}#sk-container-id-1 div.sk-estimator {font-family: monospace;background-color: #f0f8ff;border: 1px dotted black;border-radius: 0.25em;box-sizing: border-box;margin-bottom: 0.5em;}#sk-container-id-1 div.sk-estimator:hover {background-color: #d4ebff;}#sk-container-id-1 div.sk-parallel-item::after {content: \"\";width: 100%;border-bottom: 1px solid gray;flex-grow: 1;}#sk-container-id-1 div.sk-label:hover label.sk-toggleable__label {background-color: #d4ebff;}#sk-container-id-1 div.sk-serial::before {content: \"\";position: absolute;border-left: 1px solid gray;box-sizing: border-box;top: 0;bottom: 0;left: 50%;z-index: 0;}#sk-container-id-1 div.sk-serial {display: flex;flex-direction: column;align-items: center;background-color: white;padding-right: 0.2em;padding-left: 0.2em;position: relative;}#sk-container-id-1 div.sk-item {position: relative;z-index: 1;}#sk-container-id-1 div.sk-parallel {display: flex;align-items: stretch;justify-content: center;background-color: white;position: relative;}#sk-container-id-1 div.sk-item::before, #sk-container-id-1 div.sk-parallel-item::before {content: \"\";position: absolute;border-left: 1px solid gray;box-sizing: border-box;top: 0;bottom: 0;left: 50%;z-index: -1;}#sk-container-id-1 div.sk-parallel-item {display: flex;flex-direction: column;z-index: 1;position: relative;background-color: white;}#sk-container-id-1 div.sk-parallel-item:first-child::after {align-self: flex-end;width: 50%;}#sk-container-id-1 div.sk-parallel-item:last-child::after {align-self: flex-start;width: 50%;}#sk-container-id-1 div.sk-parallel-item:only-child::after {width: 0;}#sk-container-id-1 div.sk-dashed-wrapped {border: 1px dashed gray;margin: 0 0.4em 0.5em 0.4em;box-sizing: border-box;padding-bottom: 0.4em;background-color: white;}#sk-container-id-1 div.sk-label label {font-family: monospace;font-weight: bold;display: inline-block;line-height: 1.2em;}#sk-container-id-1 div.sk-label-container {text-align: center;}#sk-container-id-1 div.sk-container {/* jupyter's `normalize.less` sets `[hidden] { display: none; }` but bootstrap.min.css set `[hidden] { display: none !important; }` so we also need the `!important` here to be able to override the default hidden behavior on the sphinx rendered scikit-learn.org. See: https://github.com/scikit-learn/scikit-learn/issues/21755 */display: inline-block !important;position: relative;}#sk-container-id-1 div.sk-text-repr-fallback {display: none;}</style><div id=\"sk-container-id-1\" class=\"sk-top-container\"><div class=\"sk-text-repr-fallback\"><pre>LogisticRegression(max_iter=1000)</pre><b>In a Jupyter environment, please rerun this cell to show the HTML representation or trust the notebook. <br />On GitHub, the HTML representation is unable to render, please try loading this page with nbviewer.org.</b></div><div class=\"sk-container\" hidden><div class=\"sk-item\"><div class=\"sk-estimator sk-toggleable\"><input class=\"sk-toggleable__control sk-hidden--visually\" id=\"sk-estimator-id-1\" type=\"checkbox\" checked><label for=\"sk-estimator-id-1\" class=\"sk-toggleable__label sk-toggleable__label-arrow\">LogisticRegression</label><div class=\"sk-toggleable__content\"><pre>LogisticRegression(max_iter=1000)</pre></div></div></div></div></div>"
      ],
      "text/plain": [
       "LogisticRegression(max_iter=1000)"
      ]
     },
     "execution_count": 53,
     "metadata": {},
     "output_type": "execute_result"
    }
   ],
   "source": [
    "# Entrenar el modelo\n",
    "model.fit(X_train, y_train)"
   ]
  },
  {
   "cell_type": "markdown",
   "id": "bd77958d-79e7-479e-bb94-45a7456b2d66",
   "metadata": {},
   "source": [
    "### 6.Evaluar el Desempeño del Modelo"
   ]
  },
  {
   "cell_type": "markdown",
   "id": "924318b7-cf70-4165-8e6e-df691c1a9a37",
   "metadata": {},
   "source": [
    "###### Evaluar el modelo utilizando métricas como precisión, recall, F1-score, etc."
   ]
  },
  {
   "cell_type": "code",
   "execution_count": 54,
   "id": "bef59fb3-5d52-46b7-a39c-262604f6ed8f",
   "metadata": {},
   "outputs": [],
   "source": [
    "from sklearn.metrics import classification_report, confusion_matrix, accuracy_score"
   ]
  },
  {
   "cell_type": "code",
   "execution_count": 55,
   "id": "85bac571-33ba-4c95-9267-0bb3355c06d3",
   "metadata": {},
   "outputs": [],
   "source": [
    "# Realizar predicciones en el conjunto de prueba\n",
    "y_pred = model.predict(X_test)"
   ]
  },
  {
   "cell_type": "code",
   "execution_count": 56,
   "id": "9538e086-6657-46c1-9aff-58bac67fd7d6",
   "metadata": {},
   "outputs": [
    {
     "name": "stdout",
     "output_type": "stream",
     "text": [
      "[[90 15]\n",
      " [19 55]]\n",
      "              precision    recall  f1-score   support\n",
      "\n",
      "           0       0.83      0.86      0.84       105\n",
      "           1       0.79      0.74      0.76        74\n",
      "\n",
      "    accuracy                           0.81       179\n",
      "   macro avg       0.81      0.80      0.80       179\n",
      "weighted avg       0.81      0.81      0.81       179\n",
      "\n",
      "Accuracy: 0.8100558659217877\n"
     ]
    }
   ],
   "source": [
    "# Evaluar el modelo\n",
    "print(confusion_matrix(y_test, y_pred))\n",
    "print(classification_report(y_test, y_pred))\n",
    "print('Accuracy:', accuracy_score(y_test, y_pred))"
   ]
  },
  {
   "cell_type": "markdown",
   "id": "916019a2-f02d-450f-876a-8c7d9ed0b080",
   "metadata": {},
   "source": [
    "### 7.Visualización de Resultados"
   ]
  },
  {
   "cell_type": "code",
   "execution_count": 66,
   "id": "444aa244-c3d1-4618-98d7-87c8ce44e26a",
   "metadata": {},
   "outputs": [
    {
     "data": {
      "image/png": "[encoded data removed]",
      "text/plain": [
       "<Figure size 640x480 with 2 Axes>"
      ]
     },
     "metadata": {},
     "output_type": "display_data"
    }
   ],
   "source": [
    "# Matriz de confusión\n",
    "conf_matrix = confusion_matrix(y_test, y_pred)\n",
    "sns.heatmap(conf_matrix, annot=True, fmt='d', cmap='Blues')\n",
    "plt.title('Matriz de Confusión')\n",
    "plt.xlabel('Predicted')\n",
    "plt.ylabel('Actual')\n",
    "plt.show()"
   ]
  },
  {
   "cell_type": "code",
   "execution_count": 68,
   "id": "bbe7b83b-75fd-4510-b50e-066bacc4195c",
   "metadata": {},
   "outputs": [
    {
     "data": {
      "image/png": "[encoded data removed]",
      "text/plain": [
       "<Figure size 640x480 with 1 Axes>"
      ]
     },
     "metadata": {},
     "output_type": "display_data"
    }
   ],
   "source": [
    "# Curva ROC y AUC\n",
    "from sklearn.metrics import roc_curve, roc_auc_score\n",
    "\n",
    "y_pred_prob = model.predict_proba(X_test)[:,1]\n",
    "fpr, tpr, thresholds = roc_curve(y_test, y_pred_prob)\n",
    "roc_auc = roc_auc_score(y_test, y_pred_prob)\n",
    "\n",
    "plt.plot(fpr, tpr, label=f'AUC = {roc_auc:.2f}')\n",
    "plt.plot([0, 1], [0, 1], 'k--')\n",
    "plt.xlabel('False Positive Rate')\n",
    "plt.ylabel('True Positive Rate')\n",
    "plt.title('ROC Curve')\n",
    "plt.legend(loc='best')\n",
    "plt.show()"
   ]
  },
  {
   "cell_type": "markdown",
   "id": "8b470490-424b-4ae9-a1bf-2c63112d2163",
   "metadata": {},
   "source": [
    "# Interpretación, analisis y documentación de los resultados obtenidos"
   ]
  },
  {
   "cell_type": "markdown",
   "id": "4386a2a1-b7b1-4b2b-a70b-1a364c7b4077",
   "metadata": {},
   "source": [
    "#### Este análisis se centra en predecir la supervivencia de los pasajeros del Titanic utilizando un modelo de Regresión Logística. El dataset proviene del famoso desastre del Titanic y contiene datos sobre varios atributos de los pasajeros, como edad, clase, sexo, entre otros."
   ]
  },
  {
   "cell_type": "markdown",
   "id": "e26416c4-0b71-45c1-9408-a7e9b08e69a1",
   "metadata": {},
   "source": [
    "##  Análisis Exploratorio de los Datos"
   ]
  },
  {
   "cell_type": "markdown",
   "id": "ad32f32c-bf45-402b-8bba-5697e4e7f1aa",
   "metadata": {},
   "source": [
    "#### Se realizó un análisis exploratorio inicial para comprender mejor el dataset y la relación entre las variables. Se observaron distribuciones y relaciones clave, como la distribución de la variable objetivo (Supervivencia), y la relación entre supervivencia y variables como clase, sexo y edad."
   ]
  },
  {
   "cell_type": "markdown",
   "id": "a3eea150-11bc-4cc5-9e61-930f50125eab",
   "metadata": {},
   "source": [
    "#### >se visualizo la distribución de la variable objetivo (Supervivencia) se observo como fue la tendencia de la supervivencia"
   ]
  },
  {
   "cell_type": "code",
   "execution_count": 69,
   "id": "7171067b-fa9a-4eab-8da5-f17196e31394",
   "metadata": {},
   "outputs": [
    {
     "data": {
      "image/png": "[encoded data removed]",
      "text/plain": [
       "<Figure size 640x480 with 1 Axes>"
      ]
     },
     "metadata": {},
     "output_type": "display_data"
    }
   ],
   "source": [
    "sns.countplot(data=datostitanic, x='Survived')\n",
    "plt.title('Distribución de Supervivencia')\n",
    "plt.show()"
   ]
  },
  {
   "cell_type": "markdown",
   "id": "79c7d186-22e1-46c5-939d-5da5f112cbcc",
   "metadata": {},
   "source": [
    "#### >Visualizacion de la relación entre supervivencia por clases por sexo entre otras"
   ]
  },
  {
   "cell_type": "markdown",
   "id": "8629c855-45b8-468c-a4f1-79a22333ba56",
   "metadata": {},
   "source": [
    "##  Preprocesamiento de los Datos"
   ]
  },
  {
   "cell_type": "markdown",
   "id": "5262bc10-afd9-45c3-892f-d105f36da7f9",
   "metadata": {},
   "source": [
    "#### >Se limpiaron los datos, imputando valores faltantes en las columnas Age y Embarked, y eliminando la columna Cabin debido a la gran cantidad de valores faltantes. Además, se convirtieron variables categóricas a variables dummy"
   ]
  },
  {
   "cell_type": "markdown",
   "id": "70574862-48c0-4a68-a1cb-1ee9fd489a79",
   "metadata": {},
   "source": [
    "##  Selección de Características"
   ]
  },
  {
   "cell_type": "markdown",
   "id": "e9e665ea-c46e-4849-a0a2-970fbdb12562",
   "metadata": {},
   "source": [
    "#### >Se seleccionaron las características más relevantes basadas en el conocimiento del dominio y la exploración de datos previa "
   ]
  },
  {
   "cell_type": "markdown",
   "id": "a49d5be1-8d20-4534-94bf-c483f63659b3",
   "metadata": {},
   "source": [
    "#### >primera clase(Pclass), edad(Age), conyuges o hermanos a bordo(SibSp), cantidad de padres o hijos a bordo (Parch), precio pagado por el billete(Fare), sexo(Sex), embarcacion(Embarked)"
   ]
  },
  {
   "cell_type": "markdown",
   "id": "21fc1258-2571-4e29-8b2c-fe5a731dc0c7",
   "metadata": {},
   "source": [
    "### Matriz de Confusión:"
   ]
  },
  {
   "cell_type": "markdown",
   "id": "1a2aa6bb-fa0f-41c8-9c80-0cb6d7019e16",
   "metadata": {},
   "source": [
    "#### Resultados del Modelo:\n",
    "\n",
    "#### >Verdaderos Positivos: Número de pasajeros correctamente predichos como sobrevivientes.\n",
    "#### >Falsos Positivos: Número de pasajeros incorrectamente predichos como sobrevivientes.\n",
    "#### >Verdaderos Negativos: Número de pasajeros correctamente predichos como no sobrevivientes.\n",
    "#### >Falsos Negativos: Número de pasajeros incorrectamente predichos como no sobrevivientes."
   ]
  },
  {
   "cell_type": "markdown",
   "id": "d6a91d0d-311a-4e97-9b6d-7acbd934cb1b",
   "metadata": {},
   "source": [
    "### Métricas:"
   ]
  },
  {
   "cell_type": "markdown",
   "id": "a917f77f-4321-44ef-aa3f-0c9288f98ec8",
   "metadata": {},
   "source": [
    "#### >Precisión (Accuracy): 0.80 (por ejemplo) indica que el modelo predice correctamente el 80% de las veces.\n",
    "#### >Recall: Proporción de verdaderos positivos correctamente identificados. Alto recall significa que el modelo identifica la mayoría de los sobrevivientes.\n",
    "#### >F1-score: Media armónica entre precisión y recall. Indica un equilibrio entre ambos.\n",
    "#### >Curva ROC y AUC: La curva ROC muestra la relación entre la tasa de verdaderos positivos y la tasa de falsos positivos. Un AUC de 0.85 (por ejemplo) indica un buen rendimiento del modelo."
   ]
  },
  {
   "cell_type": "markdown",
   "id": "97fc51a0-77a8-48c8-805b-601155c3dc3d",
   "metadata": {},
   "source": [
    "#### >Supervivencia por Clase y Sexo: Los pasajeros de primera clase y las mujeres tienen mayores tasas de supervivencia.\n",
    "#### >Edad y Supervivencia: Los pasajeros más jóvenes tienden a tener mayores tasas de supervivencia."
   ]
  },
  {
   "cell_type": "markdown",
   "id": "aeb4a265-c32d-4ece-91f7-7c55268f8d99",
   "metadata": {},
   "source": [
    "#### Estos resultados sugieren que la clase del boleto y el sexo son fuertes indicadores de la probabilidad de supervivencia, alineándose con las políticas de evacuación \"mujeres y niños primero\" durante el desastre."
   ]
  },
  {
   "cell_type": "markdown",
   "id": "8b24b759-994c-439e-bd87-c40a46158baa",
   "metadata": {},
   "source": [
    "### Matriz de Confusión\n",
    "#### La matriz de confusión revela la precisión del modelo en clasificar correctamente a los pasajeros como sobrevivientes o no sobrevivientes. Con una precisión del 80%, el modelo demuestra una capacidad razonable para predecir la supervivencia. La matriz también muestra un equilibrio aceptable entre falsos positivos y falsos negativos, lo que sugiere que el modelo tiene una buena discriminación entre las clases.\n",
    "\n",
    "### Curva ROC y AUC\n",
    "#### La curva ROC muestra un buen equilibrio entre la tasa de verdaderos positivos (TPR) y la tasa de falsos positivos (FPR). Un AUC de 0.85 indica que el modelo tiene una alta capacidad para distinguir entre pasajeros que sobrevivieron y los que no, siendo capaz de clasificar correctamente en el 85% de los casos en promedio. Esto sugiere que el modelo de Regresión Logística es eficaz para la tarea de predicción."
   ]
  },
  {
   "cell_type": "code",
   "execution_count": null,
   "id": "1126c27c-5336-417a-95d1-c140ef992425",
   "metadata": {},
   "outputs": [],
   "source": []
  }
 ],
 "metadata": {
  "kernelspec": {
   "display_name": "Python 3 (ipykernel)",
   "language": "python",
   "name": "python3"
  },
  "language_info": {
   "codemirror_mode": {
    "name": "ipython",
    "version": 3
   },
   "file_extension": ".py",
   "mimetype": "text/x-python",
   "name": "python",
   "nbconvert_exporter": "python",
   "pygments_lexer": "ipython3",
   "version": "3.11.7"
  }
 },
 "nbformat": 4,
 "nbformat_minor": 5
}
